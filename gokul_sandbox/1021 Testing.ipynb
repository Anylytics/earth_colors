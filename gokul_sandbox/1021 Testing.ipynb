{
 "cells": [
  {
   "cell_type": "code",
   "execution_count": 1,
   "metadata": {
    "collapsed": false
   },
   "outputs": [],
   "source": [
    "import sys\n",
    "base_dir = \"/Users/gsa0081/Projects/anylytics\"\n",
    "if base_dir not in sys.path:\n",
    "    sys.path.append(base_dir)\n",
    "%load_ext autoreload\n",
    "%autoreload 2\n",
    "%matplotlib inline"
   ]
  },
  {
   "cell_type": "code",
   "execution_count": 2,
   "metadata": {
    "collapsed": false
   },
   "outputs": [],
   "source": [
    "from glob import glob\n",
    "import matplotlib.pyplot as plt\n",
    "from earth_colors.utils.common import fig\n",
    "from scipy import ndimage\n",
    "import numpy as np\n",
    "import seaborn as sns\n",
    "from sklearn.cluster import KMeans\n",
    "from earth_colors.utils.STRTools import str_map, str_parallel, setTQDMNotebook, str_groupBy\n",
    "from itertools import count\n",
    "from tqdm import tqdm\n",
    "sns.set_style(\"white\")\n",
    "setTQDMNotebook()"
   ]
  },
  {
   "cell_type": "code",
   "execution_count": 11,
   "metadata": {
    "collapsed": true
   },
   "outputs": [],
   "source": [
    "imagedir = \"/Users/gsa0081/Projects/anylytics/earth_colors/images\"\n",
    "#imageFiles = filter(lambda x: '201610' in x or '201606' in x, sorted(glob(\"%s/*.jpg\" % imagedir)))\n",
    "imageFiles = sorted(glob(\"%s/*.jpg\" % imagedir))\n",
    "images = (ndimage.imread(imageName,mode='RGB') for imageName in imageFiles)"
   ]
  },
  {
   "cell_type": "code",
   "execution_count": 12,
   "metadata": {
    "collapsed": true
   },
   "outputs": [],
   "source": [
    "def computeKMeans(image):\n",
    "    clt = KMeans(n_clusters = 3)\n",
    "    imReshaped = image.reshape((image.shape[0] * image.shape[1], 3))\n",
    "    clt.fit(imReshaped)\n",
    "    \n",
    "    groups = str_groupBy(clt.labels_, key=lambda x: x)\n",
    "    hist = [len(groups[i])/float(clt.labels_.size) for i in range(3)]\n",
    "    return clt.cluster_centers_/255., hist"
   ]
  },
  {
   "cell_type": "code",
   "execution_count": 13,
   "metadata": {
    "collapsed": false,
    "scrolled": true
   },
   "outputs": [
    {
     "name": "stdout",
     "output_type": "stream",
     "text": [
      "\n"
     ]
    }
   ],
   "source": [
    "kMeans_output = str_parallel(computeKMeans, total=len(imageFiles), chunksize=10)(images)"
   ]
  },
  {
   "cell_type": "code",
   "execution_count": 14,
   "metadata": {
    "collapsed": false
   },
   "outputs": [],
   "source": [
    "def parseOutput(inp):\n",
    "    colors, ratio = inp\n",
    "    data = np.zeros((100,1,3))\n",
    "    p1 = int(np.round(ratio[0]*100))\n",
    "    p2 = int(p1 + np.round(ratio[1]*100))\n",
    "    \n",
    "    data[0:p1,0] = colors[0]\n",
    "    data[p1:p2,0] = colors[1]\n",
    "    data[p2:100,0] = colors[2]\n",
    "    return data\n"
   ]
  },
  {
   "cell_type": "code",
   "execution_count": 15,
   "metadata": {
    "collapsed": false
   },
   "outputs": [
    {
     "name": "stdout",
     "output_type": "stream",
     "text": [
      "\n"
     ]
    }
   ],
   "source": [
    "ratio_output = np.squeeze(np.array(str_map(parseOutput)(kMeans_output)))"
   ]
  },
  {
   "cell_type": "code",
   "execution_count": 16,
   "metadata": {
    "collapsed": false
   },
   "outputs": [
    {
     "data": {
      "text/plain": [
       "(379, 100, 3)"
      ]
     },
     "execution_count": 16,
     "metadata": {},
     "output_type": "execute_result"
    }
   ],
   "source": [
    "ratio_output.shape"
   ]
  },
  {
   "cell_type": "code",
   "execution_count": 17,
   "metadata": {
    "collapsed": false,
    "scrolled": false
   },
   "outputs": [
    {
     "data": {
      "text/plain": [
       "<matplotlib.image.AxesImage at 0x10e90f5d0>"
      ]
     },
     "execution_count": 17,
     "metadata": {},
     "output_type": "execute_result"
    },
    {
     "data": {
      "image/png": "[encoded data removed]",
      "text/plain": [
       "<matplotlib.figure.Figure at 0x1116ea150>"
      ]
     },
     "metadata": {},
     "output_type": "display_data"
    }
   ],
   "source": [
    "fig(figsize=(20,8))\n",
    "plt.imshow(np.swapaxes(ratio_output,0,1),aspect='auto')"
   ]
  },
  {
   "cell_type": "code",
   "execution_count": 10,
   "metadata": {
    "collapsed": false
   },
   "outputs": [
    {
     "data": {
      "text/plain": [
       "28"
      ]
     },
     "execution_count": 10,
     "metadata": {},
     "output_type": "execute_result"
    }
   ],
   "source": [
    "map(lambda x: '201610' in x , imageFiles).index(True)"
   ]
  },
  {
   "cell_type": "code",
   "execution_count": null,
   "metadata": {
    "collapsed": true
   },
   "outputs": [],
   "source": []
  }
 ],
 "metadata": {
  "kernelspec": {
   "display_name": "Python 2",
   "language": "python",
   "name": "python2"
  },
  "language_info": {
   "codemirror_mode": {
    "name": "ipython",
    "version": 2
   },
   "file_extension": ".py",
   "mimetype": "text/x-python",
   "name": "python",
   "nbconvert_exporter": "python",
   "pygments_lexer": "ipython2",
   "version": "2.7.13"
  },
  "widgets": {
   "state": {
    "8378b3db929648fea7cb48ffd003cde2": {
     "views": [
      {
       "cell_index": 4
      }
     ]
    },
    "d210b99d094f436e82e42d2219f0d19b": {
     "views": [
      {
       "cell_index": 6
      }
     ]
    }
   },
   "version": "1.2.0"
  }
 },
 "nbformat": 4,
 "nbformat_minor": 2
}
